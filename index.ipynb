{
 "cells": [
  {
   "cell_type": "markdown",
   "metadata": {},
   "source": [
    "# Analysis of Suicide Death Rates by Different Populations\n",
    "                                By: Noah Eby"
   ]
  },
  {
   "cell_type": "markdown",
   "metadata": {},
   "source": [
    "# Importance of the analysis of suicide death rates\n",
    "\n",
    "Analyzing suicide death rate data that is broken down by age and race is important for several reasons:\n",
    "\n",
    "Identifying Disparities and Patterns: Breaking down suicide data by age and race allows researchers, policymakers, and mental health professionals to identify disparities and patterns that might exist within different demographic groups. This information can highlight if certain age groups or racial/ethnic groups are more susceptible to suicide, helping focus intervention and prevention efforts where they are most needed.\n",
    "\n",
    "Tailoring Prevention Strategies: Different age groups and racial/ethnic groups might have varying risk factors and reasons for suicide. Analyzing the data by these categories can help tailor prevention strategies to address the unique challenges faced by different populations. What works for one group may not be as effective for another, so targeted approaches are crucial.\n",
    "\n",
    "Informing Policy Decisions: When policymakers have access to detailed suicide death rate data, they can make informed decisions about allocating resources and implementing policies aimed at reducing suicide rates. Policies can be more effective when they consider the specific needs and vulnerabilities of different age and racial groups.\n",
    "\n",
    "Monitoring Trends: Analyzing data over time allows for the monitoring of trends and changes in suicide rates among different demographics. This information can help gauge the effectiveness of interventions, identify emerging issues, and guide ongoing efforts to prevent suicide.\n",
    "\n",
    "Understanding Contributing Factors: Different age and racial groups may face unique challenges and experiences that contribute to their mental health and well-being. Analyzing suicide data broken down by these categories can provide insights into the contributing factors that may influence suicide rates, such as socioeconomic conditions, access to mental health services, cultural factors, and systemic inequalities.\n",
    "\n",
    "Addressing Stigma and Cultural Norms: Cultural norms and stigma around mental health can vary among different racial and ethnic groups. By understanding how these factors interact with suicide rates, mental health professionals can develop culturally sensitive approaches to promote mental health awareness, reduce stigma, and encourage help-seeking behaviors.\n",
    "\n",
    "Tailoring Outreach and Education: Prevention and awareness campaigns need to be relevant and relatable to different demographics. Analyzing data by age and race helps in tailoring educational materials, outreach efforts, and public awareness campaigns that resonate with specific groups and are more likely to be effective in raising awareness about suicide and available resources.\n",
    "\n",
    "Resource Allocation: Limited resources for mental health support and suicide prevention require careful allocation. Analyzing data by age and race can help determine which groups are most in need of resources and support, ensuring that assistance reaches those who are at the highest risk.\n",
    "\n",
    "In summary, analyzing suicide death rate data by age and race is crucial for understanding the complex factors contributing to suicide rates among different demographic groups. This information enables targeted interventions, more effective policies, and the development of culturally sensitive approaches to suicide prevention.\n",
    "\n",
    "# Data Collection and Imputation\n",
    "\n",
    "All the data was downloaded from the U.S. Department of Health & Human Services' website. Here is the link to the specific database used in this tutorial. https://catalog.data.gov/dataset/death-rates-for-suicide-by-sex-race-hispanic-origin-and-age-united-states-020c1 Keep in mind, this data was collected via various way, but are all traced to local hospitals, police data or other offical health reporting agencies.  Note, this data was collected from 1980-2018 only in the United States.\n"
   ]
  },
  {
   "cell_type": "code",
   "execution_count": 72,
   "metadata": {},
   "outputs": [],
   "source": [
    "# data collection\n",
    "import numpy as np\n",
    "import pandas as pd\n",
    "import re\n",
    "\n",
    "# plotting graphs and the map of every country\n",
    "import matplotlib.pyplot as plt\n",
    "import plotly.express as px\n",
    "\n",
    "# machine learning and filling in missing data\n",
    "from sklearn import linear_model\n",
    "from sklearn.impute import KNNImputer\n",
    "from sklearn.ensemble import RandomForestClassifier\n",
    "from sklearn.linear_model import LinearRegression\n",
    "from sklearn import preprocessing\n",
    "\n",
    "# hypothesis testing\n",
    "import statsmodels.formula.api as smf\n",
    "from scipy.stats import ttest_ind\n",
    "\n",
    "# to display images\n",
    "from IPython.display import Image\n",
    "\n",
    "pd.set_option('display.max_rows', None)"
   ]
  },
  {
   "cell_type": "markdown",
   "metadata": {},
   "source": [
    "# Importing Data\n",
    "\n",
    "The first step is to curate the data set to fit what kind of data we need for our analysis.  This requires imporint the data, renaming columns, and dropping data that is not nessasary. There will be data missing from the final data set, but that will be dealt with as that specific data is processed in the data analysis section."
   ]
  },
  {
   "cell_type": "code",
   "execution_count": 39,
   "metadata": {},
   "outputs": [
    {
     "data": {
      "text/html": [
       "<div>\n",
       "<style scoped>\n",
       "    .dataframe tbody tr th:only-of-type {\n",
       "        vertical-align: middle;\n",
       "    }\n",
       "\n",
       "    .dataframe tbody tr th {\n",
       "        vertical-align: top;\n",
       "    }\n",
       "\n",
       "    .dataframe thead th {\n",
       "        text-align: right;\n",
       "    }\n",
       "</style>\n",
       "<table border=\"1\" class=\"dataframe\">\n",
       "  <thead>\n",
       "    <tr style=\"text-align: right;\">\n",
       "      <th></th>\n",
       "      <th>year</th>\n",
       "      <th>Age</th>\n",
       "      <th>Sex</th>\n",
       "      <th>Race</th>\n",
       "      <th>Suicide Death Rate</th>\n",
       "    </tr>\n",
       "  </thead>\n",
       "  <tbody>\n",
       "    <tr>\n",
       "      <th>698</th>\n",
       "      <td>1980</td>\n",
       "      <td>All ages</td>\n",
       "      <td>All sexes</td>\n",
       "      <td>All races</td>\n",
       "      <td>11.9</td>\n",
       "    </tr>\n",
       "    <tr>\n",
       "      <th>728</th>\n",
       "      <td>1981</td>\n",
       "      <td>All ages</td>\n",
       "      <td>All sexes</td>\n",
       "      <td>All races</td>\n",
       "      <td>12.0</td>\n",
       "    </tr>\n",
       "    <tr>\n",
       "      <th>817</th>\n",
       "      <td>1982</td>\n",
       "      <td>All ages</td>\n",
       "      <td>All sexes</td>\n",
       "      <td>All races</td>\n",
       "      <td>12.2</td>\n",
       "    </tr>\n",
       "    <tr>\n",
       "      <th>818</th>\n",
       "      <td>1983</td>\n",
       "      <td>All ages</td>\n",
       "      <td>All sexes</td>\n",
       "      <td>All races</td>\n",
       "      <td>12.1</td>\n",
       "    </tr>\n",
       "    <tr>\n",
       "      <th>819</th>\n",
       "      <td>1984</td>\n",
       "      <td>All ages</td>\n",
       "      <td>All sexes</td>\n",
       "      <td>All races</td>\n",
       "      <td>12.4</td>\n",
       "    </tr>\n",
       "  </tbody>\n",
       "</table>\n",
       "</div>"
      ],
      "text/plain": [
       "     year       Age        Sex       Race  Suicide Death Rate\n",
       "698  1980  All ages  All sexes  All races                11.9\n",
       "728  1981  All ages  All sexes  All races                12.0\n",
       "817  1982  All ages  All sexes  All races                12.2\n",
       "818  1983  All ages  All sexes  All races                12.1\n",
       "819  1984  All ages  All sexes  All races                12.4"
      ]
     },
     "execution_count": 39,
     "metadata": {},
     "output_type": "execute_result"
    }
   ],
   "source": [
    "# read in the life expectancy data\n",
    "df = pd.read_csv(\"DeathRate.csv\")\n",
    "\n",
    "# remove the unwanted columns\n",
    "df = df[[\"UNIT_NUM\", \"STUB_LABEL\", \"YEAR\", \"AGE\", \"ESTIMATE\"]]\n",
    "\n",
    "# rename the columns\n",
    "df = df.rename(columns={\"STUB_LABEL\": \"Demographic\", \\\n",
    "                        \"ESTIMATE\" : \"Suicide Death Rate\", \"YEAR\" : \"year\", \"AGE\" : \"Age\"})\n",
    "\n",
    "# remove the rows that are not needed (year < 1980)\n",
    "df.drop(df[df.year < 1980 ].index, inplace=True)\n",
    "\n",
    "#remove \"UNIT_NUM\" data what is 1, because the database specified that is age adjusted data. We will used the raw data\n",
    "df.drop(df[df.UNIT_NUM == 1].index, inplace=True)\n",
    "\n",
    "\n",
    "# Define a function to apply to each value in Demographic\n",
    "def sex_transform_value(value):\n",
    "    \n",
    "    if \"Male\" in value:\n",
    "        return \"Male\"\n",
    "    elif \"Female\" in value:\n",
    "        return \"Female\"\n",
    "    else:\n",
    "        return \"All sexes\"\n",
    "    \n",
    "# Define a function to apply to each value in Demographic\n",
    "def race_transform_value(value):\n",
    "    \n",
    "    if \"Black or African American\" in value:\n",
    "        return \"Black or African American\"\n",
    "    elif \"American Indian or Alaska Native\" in value:\n",
    "        return \"American Indian or Alaska Native\"\n",
    "    elif \"White\" in value:\n",
    "        return \"White\"\n",
    "    elif \"Asian or Pacific Islander\" in value:\n",
    "        return \"Asian or Pacific Islander\"\n",
    "    else:\n",
    "        return \"All races\"\n",
    "    \n",
    "\n",
    "# Apply the function to create a new column\n",
    "df['Sex'] = df['Demographic'].apply(sex_transform_value)\n",
    "\n",
    "df['Race'] = df['Demographic'].apply(race_transform_value)\n",
    "\n",
    "# Define the substring you want to check for\n",
    "substring_to_check = 'Hispanic'\n",
    "\n",
    "# Specify the column in which to search for the substring\n",
    "column_to_search = 'Demographic'\n",
    "\n",
    "# Use boolean indexing to filter and keep only rows without the specified substring in the specified column\n",
    "df = df[~df[column_to_search].str.contains(substring_to_check)]\n",
    "\n",
    "# remove the unwanted columns\n",
    "df = df[[\"year\", \"Age\", \"Sex\", \"Race\",\"Suicide Death Rate\" ]]\n",
    "\n",
    "df.head()"
   ]
  },
  {
   "cell_type": "markdown",
   "metadata": {},
   "source": [
    "# Data Visualization\n",
    "\n",
    "In this section we will look at various interesting trends through the data and visualize this with graphs. Starting simple. Lets look at the Suicide Death Rate over time from 1980 - 2018"
   ]
  },
  {
   "cell_type": "code",
   "execution_count": null,
   "metadata": {},
   "outputs": [],
   "source": [
    "# graphs the mean and stdev of the feature provided for both the original and imputed data\n",
    "# parameters include the column name (attribute), the label to put on the y-axis, and the titles of the graphs\n",
    "def graph_custom(attribute, ylabel, title_mean, title_stdev):\n",
    "\n",
    "    # Llabels the x and y axes and sets the size of the plot\n",
    "    plt.figure(figsize=(15, 6))\n",
    "\n",
    "    # set the first subplot for mean\n",
    "    plt.subplot(1, 2, 1)\n",
    "    \n",
    "    # compute mean for each year and plot it (original data)\n",
    "    mean = df_raw.groupby('year', as_index=False)[attribute].mean()\n",
    "    plt.title(title_mean)\n",
    "    plt.xlabel('Year')\n",
    "    plt.ylabel(ylabel)\n",
    "    plt.plot(mean['year'], mean[attribute])\n",
    "    \n",
    "    # compute mean for each year and plot it (imputed data)\n",
    "    mean = df.groupby('year', as_index=False)[attribute].mean()\n",
    "    plt.title(title_mean)\n",
    "    plt.xlabel('Year')\n",
    "    plt.ylabel(ylabel)\n",
    "    plt.plot(mean['year'], mean[attribute])\n",
    "    \n",
    "    # create the legend\n",
    "    plt.legend(['Before Imputation', 'After Imputation'], loc='upper left')\n",
    "\n",
    "    # set the second subplot for standard deviation\n",
    "    plt.subplot(1, 2, 2)\n",
    "    \n",
    "    # compute standard deviation for each year and plot it (original data)\n",
    "    stdev = df_raw.groupby('year', as_index=False)[attribute].std()\n",
    "    plt.title(title_stdev)\n",
    "    plt.xlabel('Year')\n",
    "    plt.ylabel(ylabel)\n",
    "    plt.plot(stdev['year'], stdev[attribute])\n",
    "    \n",
    "    # compute standard deviation for each year and plot it (imputed data)\n",
    "    stdev = df.groupby('year', as_index=False)[attribute].std()\n",
    "    plt.title(title_stdev)\n",
    "    plt.xlabel('Year')\n",
    "    plt.ylabel(ylabel)\n",
    "    plt.plot(stdev['year'], stdev[attribute])\n",
    "    \n",
    "    # create the legend\n",
    "    plt.legend(['Before Imputation', 'After Imputation'], loc='upper left')\n",
    "\n",
    "    plt.show()"
   ]
  },
  {
   "cell_type": "code",
   "execution_count": 45,
   "metadata": {},
   "outputs": [
    {
     "data": {
      "image/png": "[encoded data removed]",
      "text/plain": [
       "<Figure size 432x288 with 1 Axes>"
      ]
     },
     "metadata": {
      "needs_background": "light"
     },
     "output_type": "display_data"
    }
   ],
   "source": [
    "selected_data = df.iloc[0:39, [0,4]]\n",
    "\n",
    "# Plot the selected rows as a line graph\n",
    "plt.plot(selected_data['year'], selected_data['Suicide Death Rate'], marker='o')\n",
    "\n",
    "# Add labels and title\n",
    "plt.xlabel('year')\n",
    "plt.ylabel('Suicide Death Rate')\n",
    "plt.title('Suicide Death Rate over time from 1980 - 2018')\n",
    "\n",
    "# Show the plot\n",
    "plt.show()"
   ]
  },
  {
   "cell_type": "code",
   "execution_count": 70,
   "metadata": {},
   "outputs": [
    {
     "data": {
      "image/png": "[encoded data removed]",
      "text/plain": [
       "<Figure size 432x288 with 1 Axes>"
      ]
     },
     "metadata": {
      "needs_background": "light"
     },
     "output_type": "display_data"
    }
   ],
   "source": [
    "data_10_14 = df.iloc[39:78, [0,4]]\n",
    "data_15_19 = df.iloc[117:156, [0,4]]\n",
    "data_20_24 = df.iloc[156:195, [0,4]]\n",
    "data_25_44 = df.iloc[195:234, [0,4]]\n",
    "data_45_64 = df.iloc[312:351, [0,4]]\n",
    "data_65_over = df.iloc[429:468, [0,4]]\n",
    "\n",
    "# Plot the selected rows as a line graph\n",
    "plt.plot(data_10_14['year'], data_10_14['Suicide Death Rate'], marker='o')\n",
    "plt.plot(data_15_19['year'], data_15_19['Suicide Death Rate'], marker='o')\n",
    "plt.plot(data_20_24['year'], data_20_24['Suicide Death Rate'], marker='o')\n",
    "plt.plot(data_25_44['year'], data_25_44['Suicide Death Rate'], marker='o')\n",
    "plt.plot(data_45_64['year'], data_45_64['Suicide Death Rate'], marker='o')\n",
    "plt.plot(data_65_over['year'], data_65_over['Suicide Death Rate'], marker='o')\n",
    "\n",
    "# Add labels and title\n",
    "plt.xlabel('year')\n",
    "plt.ylabel('Suicide Death Rate')\n",
    "plt.title('Suicide Death Rate over time from 1980 - 2018')\n",
    "\n",
    "plt.legend(['10-14', '15-19','20-24','25-44','45-64','65 and over'], loc='lower left')\n",
    "\n",
    "# Show the plot\n",
    "plt.show()"
   ]
  },
  {
   "cell_type": "markdown",
   "metadata": {},
   "source": [
    "Here we see the different age groups across time and their suicide death rates. Notice how the 10-14 year olds have a Consistently lower value than the 15-19 which is lower than the 20-24. But this is only looking at the data visually and checking that. After all, the peak of the 15-19 is near the 20-24's lowest point, so could the difference be due to random varyability? The section below answers that question with a t-test to answer whether the 15-19 year olds have a statistically significant difference in Suicide death rate compared to 20-24 year olds on average. You can learn more about a t-test here. (https://www.ncbi.nlm.nih.gov/books/NBK553048/)"
   ]
  },
  {
   "cell_type": "code",
   "execution_count": 76,
   "metadata": {},
   "outputs": [
    {
     "name": "stdout",
     "output_type": "stream",
     "text": [
      "t-statistic: 15.565483805828336\n",
      "p-value: 2.407458757704081e-25\n",
      "Reject null hypothesis: Means are significantly different.\n"
     ]
    }
   ],
   "source": [
    "# Perform an independent t-test\n",
    "t_statistic, p_value = ttest_ind(data_20_24['Suicide Death Rate'], data_15_19['Suicide Death Rate'])\n",
    "\n",
    "# Print the results\n",
    "print(\"t-statistic:\", t_statistic)\n",
    "print(\"p-value:\", p_value)\n",
    "\n",
    "# Check the p-value to determine statistical significance\n",
    "alpha = 0.05  # Significance level\n",
    "if p_value < alpha:\n",
    "    print(\"Reject null hypothesis: Means are significantly different.\")\n",
    "else:\n",
    "    print(\"Fail to reject null hypothesis: Means are not significantly different.\")"
   ]
  },
  {
   "cell_type": "code",
   "execution_count": null,
   "metadata": {},
   "outputs": [],
   "source": []
  },
  {
   "cell_type": "markdown",
   "metadata": {},
   "source": [
    "# Insight and Conclusion\n",
    "\n",
    "Looking through the data and comparing based on race, sex,  and age from 1980 - 2018 has revealed various trends thorughout the data.  We can show what groups of people based on those catagories need the most attention to their mental health.  Additionally, we can see how the recent upswing in conversations about suicide prevention (https://www.ncbi.nlm.nih.gov/pmc/articles/PMC7005283/) correlates with the suicide death rates shown in the graph.  "
   ]
  },
  {
   "cell_type": "code",
   "execution_count": null,
   "metadata": {},
   "outputs": [],
   "source": []
  }
 ],
 "metadata": {
  "kernelspec": {
   "display_name": "Python 3",
   "language": "python",
   "name": "python3"
  },
  "language_info": {
   "codemirror_mode": {
    "name": "ipython",
    "version": 3
   },
   "file_extension": ".py",
   "mimetype": "text/x-python",
   "name": "python",
   "nbconvert_exporter": "python",
   "pygments_lexer": "ipython3",
   "version": "3.8.5"
  }
 },
 "nbformat": 4,
 "nbformat_minor": 4
}
